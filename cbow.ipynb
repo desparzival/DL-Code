{
  "nbformat": 4,
  "nbformat_minor": 0,
  "metadata": {
    "colab": {
      "provenance": []
    },
    "kernelspec": {
      "name": "python3",
      "display_name": "Python 3"
    },
    "language_info": {
      "name": "python"
    }
  },
  "cells": [
    {
      "cell_type": "code",
      "source": [
        "import matplotlib.pyplot as plt\n",
        "import seaborn as sns\n",
        "import matplotlib as mpl\n",
        "import matplotlib.pylab as pylab\n",
        "import numpy as np\n",
        "%matplotlib inline"
      ],
      "metadata": {
        "id": "PpPXfZeACpnR"
      },
      "execution_count": 28,
      "outputs": []
    },
    {
      "cell_type": "code",
      "source": [
        "#Data Prepration\n",
        "import re"
      ],
      "metadata": {
        "id": "GlWS-o2MCsHM"
      },
      "execution_count": 29,
      "outputs": []
    },
    {
      "cell_type": "code",
      "source": [
        "sentences = \"\"\"We are about to study the idea of a computational process.\n",
        "Computational processes are abstract beings that inhabit computers.\n",
        "As they evolve, processes manipulate other abstract things called data.\n",
        "The evolution of a process is directed by a pattern of rules\n",
        "called a program. People create programs to direct processes. In effect,\n",
        "we conjure the spirits of the computer with our spells.\"\"\""
      ],
      "metadata": {
        "id": "AaAnQtkECtpG"
      },
      "execution_count": 30,
      "outputs": []
    },
    {
      "cell_type": "code",
      "source": [
        "# remove special characters\n",
        "sentences = re.sub('[^A-Za-z0-9]+', ' ', sentences)\n",
        "# remove 1 letter words\n",
        "sentences = re.sub(r'(?:^| )\\w(?:$| )', ' ', sentences).strip()\n",
        "# lower all characters\n",
        "sentences = sentences.lower()"
      ],
      "metadata": {
        "id": "YG5t-TZUCuyI"
      },
      "execution_count": 31,
      "outputs": []
    },
    {
      "cell_type": "code",
      "source": [
        "words = sentences.split()\n",
        "vocab = set(words)"
      ],
      "metadata": {
        "id": "n99Jfl1eCwlO"
      },
      "execution_count": 32,
      "outputs": []
    },
    {
      "cell_type": "code",
      "source": [
        "vocab_size = len(vocab)\n",
        "embed_dim = 10\n",
        "context_size = 2"
      ],
      "metadata": {
        "id": "PccK3LniCy02"
      },
      "execution_count": 33,
      "outputs": []
    },
    {
      "cell_type": "code",
      "source": [
        "word_to_ix = {word: i for i, word in enumerate(vocab)}\n",
        "ix_to_word = {i: word for i, word in enumerate(vocab)}"
      ],
      "metadata": {
        "id": "lNFaZ1AvC0nh"
      },
      "execution_count": 34,
      "outputs": []
    },
    {
      "cell_type": "code",
      "source": [
        "data = []\n",
        "for i in range(2, len(words) - 2):\n",
        "  context = [words[i - 2], words[i - 1], words[i +1], words[i + 2]]\n",
        "  target = words[i]\n",
        "  data.append((context, target))\n",
        "print(data[:5])"
      ],
      "metadata": {
        "colab": {
          "base_uri": "https://localhost:8080/"
        },
        "id": "k0dNTZ6FC4uS",
        "outputId": "7a8f8fa7-39f5-48f2-e108-0595d6630372"
      },
      "execution_count": 36,
      "outputs": [
        {
          "output_type": "stream",
          "name": "stdout",
          "text": [
            "[(['we', 'are', 'to', 'study'], 'about'), (['are', 'about', 'study', 'the'], 'to'), (['about', 'to', 'the', 'idea'], 'study'), (['to', 'study', 'idea', 'of'], 'the'), (['study', 'the', 'of', 'computational'], 'idea')]\n"
          ]
        }
      ]
    },
    {
      "cell_type": "code",
      "source": [
        "embeddings = np.random.random_sample((vocab_size, embed_dim))"
      ],
      "metadata": {
        "id": "Luw48U4fDDep"
      },
      "execution_count": 37,
      "outputs": []
    },
    {
      "cell_type": "code",
      "source": [
        "def linear(m, theta):\n",
        "  w = theta\n",
        "  return m.dot(w)"
      ],
      "metadata": {
        "id": "NIbjzsXFDMl_"
      },
      "execution_count": 39,
      "outputs": []
    },
    {
      "cell_type": "code",
      "source": [
        "def log_softmax(x):\n",
        "  e_x = np.exp(x - np.max(x))\n",
        "  return np.log(e_x / e_x.sum())"
      ],
      "metadata": {
        "id": "oymNGdyaDO-L"
      },
      "execution_count": 40,
      "outputs": []
    },
    {
      "cell_type": "code",
      "source": [
        "def NLLLoss(logs, targets):\n",
        "  out = logs[range(len(targets)), targets]\n",
        "  return -out.sum()/len(out)"
      ],
      "metadata": {
        "id": "-9K18_fNDT3R"
      },
      "execution_count": 41,
      "outputs": []
    },
    {
      "cell_type": "code",
      "source": [
        "def log_softmax_crossentropy_with_logits(logits,target):\n",
        "  out = np.zeros_like(logits)\n",
        "  out[np.arange(len(logits)),target] = 1\n",
        "  softmax = np.exp(logits) / np.exp(logits).sum(axis=-1,keepdims=True)\n",
        "  return (- out + softmax) / logits.shape[0]"
      ],
      "metadata": {
        "id": "JDppQE0uDWkP"
      },
      "execution_count": 42,
      "outputs": []
    },
    {
      "cell_type": "code",
      "source": [
        "def forward(context_idxs, theta):\n",
        "  m = embeddings[context_idxs].reshape(1, -1)\n",
        "  n = linear(m, theta)\n",
        "  o = log_softmax(n)\n",
        "  return m, n, o"
      ],
      "metadata": {
        "id": "NofwV2QIDaKc"
      },
      "execution_count": 43,
      "outputs": []
    },
    {
      "cell_type": "code",
      "source": [
        "def backward(preds, theta, target_idxs):\n",
        "  m, n, o = preds\n",
        "  dlog = log_softmax_crossentropy_with_logits(n, target_idxs)\n",
        "  dw = m.T.dot(dlog)\n",
        "  return dw"
      ],
      "metadata": {
        "id": "Jruq8_iUDdpL"
      },
      "execution_count": 44,
      "outputs": []
    },
    {
      "cell_type": "code",
      "source": [
        "def optimize(theta, grad, lr=0.03):\n",
        "  theta -= grad * lr\n",
        "  return theta"
      ],
      "metadata": {
        "id": "eECVCs8YDjBJ"
      },
      "execution_count": 45,
      "outputs": []
    },
    {
      "cell_type": "code",
      "source": [
        "#Genrate training data\n",
        "theta = np.random.uniform(-1, 1, (2 * context_size * embed_dim, vocab_size))"
      ],
      "metadata": {
        "id": "pGk4znp8Dl9D"
      },
      "execution_count": 46,
      "outputs": []
    },
    {
      "cell_type": "code",
      "source": [
        "epoch_losses = {}\n",
        "for epoch in range(80):\n",
        "  losses = []\n",
        "  for context, target in data:\n",
        "    context_idxs = np.array([word_to_ix[w] for w in context])\n",
        "    preds = forward(context_idxs, theta)\n",
        "    target_idxs = np.array([word_to_ix[target]])\n",
        "    loss = NLLLoss(preds[-1], target_idxs)\n",
        "    losses.append(loss)\n",
        "    grad = backward(preds, theta, target_idxs)\n",
        "    theta = optimize(theta, grad, lr=0.03)\n",
        "  epoch_losses[epoch] = losses"
      ],
      "metadata": {
        "id": "dpANfUQcDrG5"
      },
      "execution_count": 47,
      "outputs": []
    },
    {
      "cell_type": "code",
      "source": [
        "ix = np.arange(0,80)\n",
        "fig = plt.figure()\n",
        "fig.suptitle('Epoch/Losses', fontsize=20)\n",
        "plt.plot(ix,[epoch_losses[i][0] for i in ix])\n",
        "plt.xlabel('Epochs', fontsize=12)\n",
        "plt.ylabel('Losses', fontsize=12)"
      ],
      "metadata": {
        "colab": {
          "base_uri": "https://localhost:8080/",
          "height": 328
        },
        "id": "AYJSJ9M_D2HZ",
        "outputId": "4ca86717-af50-40d2-ec12-fffeb35c2969"
      },
      "execution_count": 49,
      "outputs": [
        {
          "output_type": "execute_result",
          "data": {
            "text/plain": [
              "Text(0, 0.5, 'Losses')"
            ]
          },
          "metadata": {},
          "execution_count": 49
        },
        {
          "output_type": "display_data",
          "data": {
            "text/plain": [
              "<Figure size 432x288 with 1 Axes>"
            ],
            "image/png": "[encoded data removed]"
          },
          "metadata": {
            "needs_background": "light"
          }
        }
      ]
    },
    {
      "cell_type": "code",
      "source": [
        "def predict(words):\n",
        "  context_idxs = np.array([word_to_ix[w] for w in words])\n",
        "  preds = forward(context_idxs, theta)\n",
        "  word = ix_to_word[np.argmax(preds[-1])]\n",
        "  return word"
      ],
      "metadata": {
        "id": "jb0hguQ6D_O3"
      },
      "execution_count": 50,
      "outputs": []
    },
    {
      "cell_type": "code",
      "source": [
        "# (['we', 'are', 'to', 'study'], 'about')\n",
        "predict(['we', 'are', 'to', 'study'])"
      ],
      "metadata": {
        "colab": {
          "base_uri": "https://localhost:8080/",
          "height": 36
        },
        "id": "wz-eQYyIEBZQ",
        "outputId": "746f6e06-1e8d-4dc8-a5ca-2ea66ed0b747"
      },
      "execution_count": 51,
      "outputs": [
        {
          "output_type": "execute_result",
          "data": {
            "text/plain": [
              "'about'"
            ],
            "application/vnd.google.colaboratory.intrinsic+json": {
              "type": "string"
            }
          },
          "metadata": {},
          "execution_count": 51
        }
      ]
    },
    {
      "cell_type": "code",
      "source": [
        "def accuracy():\n",
        "  wrong = 0\n",
        "  for context, target in data:\n",
        "    if(predict(context) != target):\n",
        "      wrong += 1\n",
        "  return (1 - (wrong / len(data)))"
      ],
      "metadata": {
        "id": "h8GgM0oGEDY_"
      },
      "execution_count": 52,
      "outputs": []
    },
    {
      "cell_type": "code",
      "source": [
        "accuracy()"
      ],
      "metadata": {
        "colab": {
          "base_uri": "https://localhost:8080/"
        },
        "id": "54CUbxJYEJQE",
        "outputId": "62ddd134-4aa5-4877-e693-aef8aa773bf4"
      },
      "execution_count": 53,
      "outputs": [
        {
          "output_type": "execute_result",
          "data": {
            "text/plain": [
              "1.0"
            ]
          },
          "metadata": {},
          "execution_count": 53
        }
      ]
    },
    {
      "cell_type": "code",
      "source": [
        "predict(['processes', 'manipulate', 'things', 'study'])"
      ],
      "metadata": {
        "colab": {
          "base_uri": "https://localhost:8080/",
          "height": 36
        },
        "id": "4Z1I6lEPEK8t",
        "outputId": "bdf8f03d-4a01-46be-fa14-cb10c1cd3600"
      },
      "execution_count": 54,
      "outputs": [
        {
          "output_type": "execute_result",
          "data": {
            "text/plain": [
              "'abstract'"
            ],
            "application/vnd.google.colaboratory.intrinsic+json": {
              "type": "string"
            }
          },
          "metadata": {},
          "execution_count": 54
        }
      ]
    }
  ]
}